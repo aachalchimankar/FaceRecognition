{
 "cells": [
  {
   "cell_type": "code",
   "execution_count": 1,
   "id": "c380f8c3",
   "metadata": {},
   "outputs": [
    {
     "data": {
      "text/plain": [
       "-1"
      ]
     },
     "execution_count": 1,
     "metadata": {},
     "output_type": "execute_result"
    }
   ],
   "source": [
    "import cv2\n",
    "\n",
    "#Loading The Cascade File\n",
    "face_cascade = cv2.CascadeClassifier('haarcascade_frontalface_default.xml')\n",
    "\n",
    "#Reading the Input Image\n",
    "# image= cv2.imread('1.jpg')\n",
    "image= cv2.imread('1.png')\n",
    "\n",
    "#Resizing the Image\n",
    "img = cv2.resize(image,None,fx=0.3,fy=0.3)\n",
    "\n",
    "#Converting the image into grayscale image\n",
    "imgGray = cv2.cvtColor(img, cv2.COLOR_BGR2GRAY)\n",
    "\n",
    "#Detecting The Faces\n",
    "faces = face_cascade.detectMultiScale(imgGray, 1.2, 5)\n",
    "\n",
    "#Pointing The Faces\n",
    "for (x,y,w,h) in faces:\n",
    "\tcv2.rectangle(img, (x,y), (x+w, y+h), (255,0,0),2)\n",
    "\n",
    "#Displaying The Output Image\n",
    "cv2.imshow('img', img)\n",
    "cv2.waitKey()"
   ]
  },
  {
   "cell_type": "code",
   "execution_count": null,
   "id": "fb8ee4a5",
   "metadata": {},
   "outputs": [],
   "source": []
  }
 ],
 "metadata": {
  "kernelspec": {
   "display_name": "Python 3 (ipykernel)",
   "language": "python",
   "name": "python3"
  },
  "language_info": {
   "codemirror_mode": {
    "name": "ipython",
    "version": 3
   },
   "file_extension": ".py",
   "mimetype": "text/x-python",
   "name": "python",
   "nbconvert_exporter": "python",
   "pygments_lexer": "ipython3",
   "version": "3.11.5"
  }
 },
 "nbformat": 4,
 "nbformat_minor": 5
}
